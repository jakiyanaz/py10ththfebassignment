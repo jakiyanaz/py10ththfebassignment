{
 "cells": [
  {
   "cell_type": "markdown",
   "id": "e45509c7-6e3c-416c-86e4-901c6b72194d",
   "metadata": {},
   "source": [
    "Q1. Which function is used to open a file? What are the different modes of opening a file? Explain each mode \n",
    "of file opening."
   ]
  },
  {
   "cell_type": "markdown",
   "id": "d3b0d121-0f14-478a-abe2-8432f8132e8a",
   "metadata": {},
   "source": [
    "Ans: \n",
    "    \n",
    "    open() function is used to open a file.\n",
    "    \n",
    "    Different modes of opening a file are:\n",
    "    \n",
    "    1. 'r' : Open a file for reading. (default)\n",
    "    2. 'w' : Open a file for writing. Creates a new file if it does not exist or truncates the file if it exists.\n",
    "    3. 'x' : Open a file for exclusive creation. If the file already exists, the operation fails.\n",
    "    4. 'a' : Open a file for appending at the end of the file without truncating it. Creates a new file if it does not exist.\n",
    "    5. 'b' : Open in binary mode.\n",
    "    6. 't' : Open in text mode. (default)\n",
    "    7. '+' : Open a file for updating (reading and writing)\n",
    "    "
   ]
  },
  {
   "cell_type": "markdown",
   "id": "a6123e94-f2b0-4139-87e0-54c007a1460c",
   "metadata": {},
   "source": [
    "Q2. Why close() function is used? Why is it important to close a file?"
   ]
  },
  {
   "cell_type": "markdown",
   "id": "d57b8f3b-0588-4f02-918f-eb305759553e",
   "metadata": {},
   "source": [
    "Ans: A close() function is used to close a file.\n",
    "\n",
    "It is important to close a file because files are limited resources managed by the operating system, making sure files are closed after use will protect against hard-to-debug issues like running out of file handles or experiencing corrupted data."
   ]
  },
  {
   "cell_type": "markdown",
   "id": "c611a03f-3e04-4f0c-8d2f-40285ff7255f",
   "metadata": {},
   "source": [
    "Q3. Write a python program to create a text file. Write ‘I want to become a Data Scientist’ in that file. Then \n",
    "close the file. Open this file and read the content of the file. "
   ]
  },
  {
   "cell_type": "code",
   "execution_count": 2,
   "id": "d31d8ba3-d43e-4c36-95d5-51596c3fdc4c",
   "metadata": {},
   "outputs": [],
   "source": [
    "import os\n",
    "f = open(\"test.txt\", 'w')"
   ]
  },
  {
   "cell_type": "code",
   "execution_count": 3,
   "id": "c5fcb4ba-1c88-4aa4-b03e-fdbe819a11b7",
   "metadata": {},
   "outputs": [],
   "source": [
    "f.write(\"I want to become a Data Scientist\")\n",
    "f.close()"
   ]
  },
  {
   "cell_type": "code",
   "execution_count": 4,
   "id": "205c9113-0cf0-426b-9f95-514feb777b3f",
   "metadata": {},
   "outputs": [
    {
     "data": {
      "text/plain": [
       "'I want to become a Data Scientist'"
      ]
     },
     "execution_count": 4,
     "metadata": {},
     "output_type": "execute_result"
    }
   ],
   "source": [
    "data = open('test.txt', \"r\")\n",
    "data.read()"
   ]
  },
  {
   "cell_type": "markdown",
   "id": "68896cd9-a035-4862-9e0d-4bafcda21c7e",
   "metadata": {},
   "source": [
    "Q4. Explain the following with python code: read(), readline() and readlines()."
   ]
  },
  {
   "cell_type": "code",
   "execution_count": 6,
   "id": "0fd77ae8-07b3-4d86-a92a-31803d78febb",
   "metadata": {},
   "outputs": [
    {
     "data": {
      "text/plain": [
       "'I want to become a Data Scientist'"
      ]
     },
     "execution_count": 6,
     "metadata": {},
     "output_type": "execute_result"
    }
   ],
   "source": [
    "# read() : The read method reads the entire contents of a file and returns it as a string.\n",
    "data.seek(0)\n",
    "data.read()"
   ]
  },
  {
   "cell_type": "code",
   "execution_count": 8,
   "id": "fca8b148-3e6a-4b0c-9215-114727dd57b0",
   "metadata": {},
   "outputs": [
    {
     "name": "stdout",
     "output_type": "stream",
     "text": [
      "I want to become a Data Scientist\n",
      "\n",
      "A paragraph is a series of sentences that are organized and coherent, and are all related to a single topic. Almost every piece of writing you do that is\n",
      "longer than a few sentences should be organized into paragraphs. This is because paragraphs show a reader where the subdivisions of an essay begin and end,\n",
      "and thus help the reader see the organization of the essay and grasp its main points.\n"
     ]
    }
   ],
   "source": [
    "# readline() : The readline method reads a single line from a file and returns it as a string. This means that if you use readline, \n",
    "# you can read the contents of a file line by line, which can be useful for processing large files that do not fit in memory.\n",
    "\n",
    "with open(\"test.txt\", \"r\") as file:\n",
    "    line = file.readline()\n",
    "    while line:\n",
    "        print(line.strip())\n",
    "        line = file.readline()"
   ]
  },
  {
   "cell_type": "code",
   "execution_count": 10,
   "id": "035bfbf5-ce7f-4060-bd69-195d0c7cf1cb",
   "metadata": {},
   "outputs": [
    {
     "name": "stdout",
     "output_type": "stream",
     "text": [
      "['I want to become a Data Scientist\\n', '\\n', 'A paragraph is a series of sentences that are organized and coherent, and are all related to a single topic. Almost every piece of writing you do that is \\n', 'longer than a few sentences should be organized into paragraphs. This is because paragraphs show a reader where the subdivisions of an essay begin and end,\\n', 'and thus help the reader see the organization of the essay and grasp its main points.']\n"
     ]
    }
   ],
   "source": [
    "# readlines() : The readline method reads a single line from a file and returns it as a string, while the readlines method reads the entire contents of a file and returns it as a list of strings, where each element of the list is a single line of the file.\n",
    "with open(\"test.txt\") as f:\n",
    "    line = f.readlines()\n",
    "    print(line)"
   ]
  },
  {
   "cell_type": "markdown",
   "id": "6368af39-341b-42c0-92de-f3536b6c025b",
   "metadata": {},
   "source": [
    "Q5. Explain why with statement is used with open(). What is the advantage of using with statement and \n",
    "open() together?"
   ]
  },
  {
   "cell_type": "markdown",
   "id": "3c3226f0-b67f-425c-8414-ac77df94fa03",
   "metadata": {},
   "source": [
    "Ans: The with statement works with the open() function to open a file.\n",
    "\n",
    "Unlike open() where you have to close the file with the close() method, the with statement closes the file itself"
   ]
  },
  {
   "cell_type": "markdown",
   "id": "52bf22cb-fe4a-44ea-8f2a-eab840c72348",
   "metadata": {},
   "source": [
    "Q6. Explain the write() and writelines() functions. Give a suitable example."
   ]
  },
  {
   "cell_type": "markdown",
   "id": "2e83568c-0ad3-465f-adc9-d3d7481c4d4e",
   "metadata": {},
   "source": [
    "Ans: write() : The write() function will write the content in the file without adding any extra characters.\n",
    "\n",
    "writelines() : This function writes the content of a list to a file."
   ]
  },
  {
   "cell_type": "code",
   "execution_count": 14,
   "id": "ce10a8c2-d412-4c40-bca7-078e8121fa81",
   "metadata": {},
   "outputs": [],
   "source": [
    "# write()\n",
    "import os \n",
    "f1 = open('test2.txt', 'w')\n",
    "f1.write(\"Hello this is a software engineer\")\n",
    "f1.close()"
   ]
  },
  {
   "cell_type": "code",
   "execution_count": 16,
   "id": "08e8d61d-0c4c-4cf2-94ca-4b932b6d9637",
   "metadata": {},
   "outputs": [
    {
     "name": "stdin",
     "output_type": "stream",
     "text": [
      "Enter the name of the employee:  amit\n",
      "Enter the name of the employee:  sumit\n",
      "Enter the name of the employee:  ankit\n"
     ]
    }
   ],
   "source": [
    "# writelines()\n",
    "import os\n",
    "file1 = open(\"test2.txt\", \"w\")\n",
    "lst = []\n",
    "for i in range(3):\n",
    "    name = input(\"Enter the name of the employee: \")\n",
    "    lst.append(name + '\\n')\n",
    "      \n",
    "file1.writelines(lst)\n",
    "file1.close()"
   ]
  },
  {
   "cell_type": "code",
   "execution_count": null,
   "id": "4e555a40-2db1-40ee-a2c9-f12ce55caffe",
   "metadata": {},
   "outputs": [],
   "source": []
  }
 ],
 "metadata": {
  "kernelspec": {
   "display_name": "Python 3 (ipykernel)",
   "language": "python",
   "name": "python3"
  },
  "language_info": {
   "codemirror_mode": {
    "name": "ipython",
    "version": 3
   },
   "file_extension": ".py",
   "mimetype": "text/x-python",
   "name": "python",
   "nbconvert_exporter": "python",
   "pygments_lexer": "ipython3",
   "version": "3.10.8"
  }
 },
 "nbformat": 4,
 "nbformat_minor": 5
}
